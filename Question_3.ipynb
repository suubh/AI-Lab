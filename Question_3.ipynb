{
  "nbformat": 4,
  "nbformat_minor": 0,
  "metadata": {
    "colab": {
      "name": "Question_3.ipynb",
      "provenance": []
    },
    "kernelspec": {
      "name": "python3",
      "display_name": "Python 3"
    },
    "language_info": {
      "name": "python"
    }
  },
  "cells": [
    {
      "cell_type": "markdown",
      "source": [
        "# **3. Write a program to implement the Naive Bayesian Classifier for a Sample training data set stores as a .CSV file. Compute the accuracy of the classifier, considering few test data sets.**"
      ],
      "metadata": {
        "id": "de0xo4UVVOZb"
      }
    },
    {
      "cell_type": "code",
      "execution_count": 1,
      "metadata": {
        "id": "nmlGAtLYUxlX"
      },
      "outputs": [],
      "source": [
        "import pandas as ps\n",
        "import numpy as np\n",
        "import seaborn as sb\n",
        "import matplotlib.pyplot as plt\n",
        "import warnings\n",
        "warnings.filterwarnings(\"ignore\")"
      ]
    },
    {
      "cell_type": "code",
      "source": [
        "# DataSet\n",
        "from sklearn.datasets import fetch_20newsgroups"
      ],
      "metadata": {
        "id": "MXiY7ul6hZgU"
      },
      "execution_count": 10,
      "outputs": []
    },
    {
      "cell_type": "code",
      "source": [
        "# Train and Test DataSet\n",
        "train=fetch_20newsgroups(data_home='.', subset='train')\n",
        "test=fetch_20newsgroups(data_home='.', subset='test')"
      ],
      "metadata": {
        "id": "PC49cTAvhbkS"
      },
      "execution_count": 11,
      "outputs": []
    },
    {
      "cell_type": "code",
      "source": [
        "train.keys(),test.keys()"
      ],
      "metadata": {
        "colab": {
          "base_uri": "https://localhost:8080/"
        },
        "id": "3pVcm2tVhgvP",
        "outputId": "1bd44598-45ad-4882-f59c-d09387833794"
      },
      "execution_count": 4,
      "outputs": [
        {
          "output_type": "execute_result",
          "data": {
            "text/plain": [
              "(dict_keys(['data', 'filenames', 'target_names', 'target', 'DESCR']),\n",
              " dict_keys(['data', 'filenames', 'target_names', 'target', 'DESCR']))"
            ]
          },
          "metadata": {},
          "execution_count": 4
        }
      ]
    },
    {
      "cell_type": "code",
      "source": [
        "len(train['data']),len(test['data'])"
      ],
      "metadata": {
        "colab": {
          "base_uri": "https://localhost:8080/"
        },
        "id": "EsCt3otGhivd",
        "outputId": "d820caab-5f48-417f-899b-bb4ab5ec42fe"
      },
      "execution_count": 5,
      "outputs": [
        {
          "output_type": "execute_result",
          "data": {
            "text/plain": [
              "(11314, 7532)"
            ]
          },
          "metadata": {},
          "execution_count": 5
        }
      ]
    },
    {
      "cell_type": "code",
      "source": [
        "for i ,label in enumerate(train['target_names']):\n",
        "    print(f'Class{i:2d}={label}')"
      ],
      "metadata": {
        "colab": {
          "base_uri": "https://localhost:8080/"
        },
        "id": "TUCd48W2hjdN",
        "outputId": "0502cfa8-69ca-4d3c-8171-964e288792aa"
      },
      "execution_count": 6,
      "outputs": [
        {
          "output_type": "stream",
          "name": "stdout",
          "text": [
            "Class 0=alt.atheism\n",
            "Class 1=comp.graphics\n",
            "Class 2=comp.os.ms-windows.misc\n",
            "Class 3=comp.sys.ibm.pc.hardware\n",
            "Class 4=comp.sys.mac.hardware\n",
            "Class 5=comp.windows.x\n",
            "Class 6=misc.forsale\n",
            "Class 7=rec.autos\n",
            "Class 8=rec.motorcycles\n",
            "Class 9=rec.sport.baseball\n",
            "Class10=rec.sport.hockey\n",
            "Class11=sci.crypt\n",
            "Class12=sci.electronics\n",
            "Class13=sci.med\n",
            "Class14=sci.space\n",
            "Class15=soc.religion.christian\n",
            "Class16=talk.politics.guns\n",
            "Class17=talk.politics.mideast\n",
            "Class18=talk.politics.misc\n",
            "Class19=talk.religion.misc\n"
          ]
        }
      ]
    },
    {
      "cell_type": "code",
      "source": [
        "# Printing a random message From training set\n",
        "item_num=20\n",
        "class_num=train['target'][item_num]\n",
        "print(f'Class number={class_num}')\n",
        "print(f'Class name={train[\"target_names\"][class_num]}')\n",
        "print()\n",
        "print(train['data'][item_num])"
      ],
      "metadata": {
        "colab": {
          "base_uri": "https://localhost:8080/"
        },
        "id": "pF1G6xqYhlrJ",
        "outputId": "9a02d2c8-70cb-4f9d-9b08-ca2e80223c7f"
      },
      "execution_count": 7,
      "outputs": [
        {
          "output_type": "stream",
          "name": "stdout",
          "text": [
            "Class number=0\n",
            "Class name=alt.atheism\n",
            "\n",
            "From: keith@cco.caltech.edu (Keith Allan Schneider)\n",
            "Subject: Re: <<Pompous ass\n",
            "Organization: California Institute of Technology, Pasadena\n",
            "Lines: 16\n",
            "NNTP-Posting-Host: punisher.caltech.edu\n",
            "\n",
            "livesey@solntze.wpd.sgi.com (Jon Livesey) writes:\n",
            "\n",
            "[...]\n",
            ">>The \"`little' things\" above were in reference to Germany, clearly.  People\n",
            ">>said that there were similar things in Germany, but no one could name any.\n",
            ">That's not true.  I gave you two examples.  One was the rather\n",
            ">pevasive anti-semitism in German Christianity well before Hitler\n",
            ">arrived.  The other was the system of social ranks that were used\n",
            ">in Imperail Germany and Austria to distinguish Jews from the rest \n",
            ">of the population.\n",
            "\n",
            "These don't seem like \"little things\" to me.  At least, they are orders\n",
            "worse than the motto.  Do you think that the motto is a \"little thing\"\n",
            "that will lead to worse things?\n",
            "\n",
            "keith\n",
            "\n"
          ]
        }
      ]
    },
    {
      "cell_type": "code",
      "source": [
        "#Printing a random message From Testing set\n",
        "test_message = 2\n",
        "class_num = test['target'][test_message]\n",
        "print(f'Class Number = {class_num}')\n",
        "print(f'Class Name = {test[\"target_names\"][class_num]}')\n",
        "print(test['data'][test_message])"
      ],
      "metadata": {
        "colab": {
          "base_uri": "https://localhost:8080/"
        },
        "id": "7NNp00zQhoKB",
        "outputId": "29b6a290-8a15-4db8-e5fd-b6720ac054e9"
      },
      "execution_count": 8,
      "outputs": [
        {
          "output_type": "stream",
          "name": "stdout",
          "text": [
            "Class Number = 0\n",
            "Class Name = alt.atheism\n",
            "From: mathew <mathew@mantis.co.uk>\n",
            "Subject: Re: STRONG & weak Atheism\n",
            "Organization: Mantis Consultants, Cambridge. UK.\n",
            "X-Newsreader: rusnews v1.02\n",
            "Lines: 9\n",
            "\n",
            "acooper@mac.cc.macalstr.edu (Turin Turambar, ME Department of Utter Misery) writes:\n",
            "> Did that FAQ ever got modified to re-define strong atheists as not those who\n",
            "> assert the nonexistence of God, but as those who assert that they BELIEVE in \n",
            "> the nonexistence of God?\n",
            "\n",
            "In a word, yes.\n",
            "\n",
            "\n",
            "mathew\n",
            "\n"
          ]
        }
      ]
    },
    {
      "cell_type": "code",
      "source": [
        "# NAIVE BAYES CLASSIFIER\n",
        "from sklearn.feature_extraction.text import CountVectorizer\n",
        "from sklearn.naive_bayes import MultinomialNB\n",
        "\n",
        "#make the DTM\n",
        "cv=CountVectorizer(stop_words='english')\n",
        "train_dtm=cv.fit_transform(train['data'])\n",
        "test_dtm=cv.transform(test['data'])\n",
        "\n",
        "#Fit the model\n",
        "nb=MultinomialNB()\n",
        "nb=nb.fit(train_dtm,train['target'])\n",
        "\n",
        "\n",
        "predicted = nb.predict(test_dtm)\n",
        "score=100.0 * nb.score(test_dtm,test['target'])\n",
        "print('Acurracy of the model is :',score)"
      ],
      "metadata": {
        "colab": {
          "base_uri": "https://localhost:8080/"
        },
        "id": "JNPo-Z0ZhsK5",
        "outputId": "84fd2aab-8a72-4cc7-e2c5-47f248e94db4"
      },
      "execution_count": 9,
      "outputs": [
        {
          "output_type": "stream",
          "name": "stdout",
          "text": [
            "Acurracy of the model is : 80.23101433882103\n"
          ]
        }
      ]
    }
  ]
}