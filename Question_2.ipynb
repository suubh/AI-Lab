{
  "nbformat": 4,
  "nbformat_minor": 0,
  "metadata": {
    "colab": {
      "name": "Question_2.ipynb",
      "provenance": []
    },
    "kernelspec": {
      "name": "python3",
      "display_name": "Python 3"
    },
    "language_info": {
      "name": "python"
    }
  },
  "cells": [
    {
      "cell_type": "markdown",
      "source": [
        "# **2. Build an Artificial Neural Network by implementing the Backpropagation algorithm and test the same using appropriate datasets.**"
      ],
      "metadata": {
        "id": "FDmIpECRUb9s"
      }
    },
    {
      "cell_type": "code",
      "execution_count": 1,
      "metadata": {
        "id": "0eDGSfrVTslF"
      },
      "outputs": [],
      "source": [
        "import numpy as np"
      ]
    },
    {
      "cell_type": "code",
      "source": [
        "# DataSet\n",
        "X = np.array(([2,9],[1,5],[3,6]),dtype = float)\n",
        "y = np.array(([92],[86],[89]),dtype = float)\n",
        "X = X/np.amax(X,axis=0)\n",
        "y = y/100"
      ],
      "metadata": {
        "id": "HJDXX_lqa2ht"
      },
      "execution_count": 18,
      "outputs": []
    },
    {
      "cell_type": "code",
      "source": [
        "print(X)\n",
        "print(y)"
      ],
      "metadata": {
        "colab": {
          "base_uri": "https://localhost:8080/"
        },
        "id": "tdzPMgbif3P3",
        "outputId": "fb613bf2-bae2-405a-ba47-f9e432fece50"
      },
      "execution_count": 17,
      "outputs": [
        {
          "output_type": "stream",
          "name": "stdout",
          "text": [
            "[[0.66666667 1.        ]\n",
            " [0.33333333 0.55555556]\n",
            " [1.         0.66666667]]\n",
            "[[0.92]\n",
            " [0.86]\n",
            " [0.89]]\n"
          ]
        }
      ]
    },
    {
      "cell_type": "code",
      "source": [
        "# Sigmoid Function\n",
        "def sigmoid(x):\n",
        "  return (1/(1+np.exp(-x)))"
      ],
      "metadata": {
        "id": "7BhGGxJEbPyo"
      },
      "execution_count": 5,
      "outputs": []
    },
    {
      "cell_type": "code",
      "source": [
        "# Derivative of Sigmoid Function\n",
        "def derivative_sigmoid(x):\n",
        "  return x*(1-x)"
      ],
      "metadata": {
        "id": "WJsuM8yAbglx"
      },
      "execution_count": 12,
      "outputs": []
    },
    {
      "cell_type": "code",
      "source": [
        "# Inititalize Variable\n",
        "epoch = 5\n",
        "learning_rate = 0.1\n",
        "inputlayer_neurons = 2\n",
        "hiddenlayer_neurons = 3\n",
        "output_neurons = 1"
      ],
      "metadata": {
        "id": "yV9v5WmYbqhX"
      },
      "execution_count": 8,
      "outputs": []
    },
    {
      "cell_type": "code",
      "source": [
        "# Weight and Bias Inititalization\n",
        "wh = np.random.uniform(size=(inputlayer_neurons,hiddenlayer_neurons))\n",
        "bs = np.random.uniform(size=(1,hiddenlayer_neurons))\n",
        "wout = np.random.uniform(size = (hiddenlayer_neurons,output_neurons))\n",
        "bout = np.random.uniform(size = (1,output_neurons))"
      ],
      "metadata": {
        "id": "vd-jBY5Mb7ho"
      },
      "execution_count": 9,
      "outputs": []
    },
    {
      "cell_type": "code",
      "source": [
        "# Algorithm \n",
        "for i in range(epoch):\n",
        "  # FORWARD PROPOGATION\n",
        "  hinp1 = np.dot(X,wh)\n",
        "  hinp = hinp1 + bs\n",
        "  hlayer_act = sigmoid(hinp)\n",
        "\n",
        "  outinp1 = np.dot(hlayer_act,wout)\n",
        "  outinp = outinp1 + bout\n",
        "  output = sigmoid(outinp)\n",
        "\n",
        "  # BACKPROPAGATION\n",
        "  EO = y-output\n",
        "  outgrad = derivative_sigmoid(output)\n",
        "  d_output = EO * outgrad\n",
        "  EH = d_output.dot(wout.T)\n",
        "  hiddengrad = derivative_sigmoid(hlayer_act)\n",
        "  d_hiddenlayer = EH * hiddengrad\n",
        "\n",
        "  wout+= hlayer_act.T.dot(d_output) * learning_rate\n",
        "  wh += X.T.dot(d_hiddenlayer) * learning_rate\n",
        "\n",
        "  print (\"-----------Epoch-\", i+1, \"Starts----------\")\n",
        "  print(\"Input: \\n\" + str(X)) \n",
        "  print(\"Actual Output: \\n\" + str(y))\n",
        "  print(\"Predicted Output: \\n\" ,output)\n",
        "  print (\"-----------Epoch-\", i+1, \"Ends----------\\n\")\n",
        "\n",
        "print(\"Input: \\n\" + str(X)) \n",
        "print(\"Actual Output: \\n\" + str(y))\n",
        "print(\"Predicted Output: \\n\" ,output)"
      ],
      "metadata": {
        "colab": {
          "base_uri": "https://localhost:8080/"
        },
        "id": "hiIXIucycmC0",
        "outputId": "a3d7d37a-c6a1-40cb-fcad-d93c64178a94"
      },
      "execution_count": 15,
      "outputs": [
        {
          "output_type": "stream",
          "name": "stdout",
          "text": [
            "-----------Epoch- 1 Starts----------\n",
            "Input: \n",
            "[[0.66666667 1.        ]\n",
            " [0.33333333 0.55555556]\n",
            " [1.         0.66666667]]\n",
            "Actual Output: \n",
            "[[0.92]\n",
            " [0.86]\n",
            " [0.89]]\n",
            "Predicted Output: \n",
            " [[0.85336663]\n",
            " [0.83565402]\n",
            " [0.85356301]]\n",
            "-----------Epoch- 1 Ends----------\n",
            "\n",
            "-----------Epoch- 2 Starts----------\n",
            "Input: \n",
            "[[0.66666667 1.        ]\n",
            " [0.33333333 0.55555556]\n",
            " [1.         0.66666667]]\n",
            "Actual Output: \n",
            "[[0.92]\n",
            " [0.86]\n",
            " [0.89]]\n",
            "Predicted Output: \n",
            " [[0.85382764]\n",
            " [0.83611131]\n",
            " [0.8540201 ]]\n",
            "-----------Epoch- 2 Ends----------\n",
            "\n",
            "-----------Epoch- 3 Starts----------\n",
            "Input: \n",
            "[[0.66666667 1.        ]\n",
            " [0.33333333 0.55555556]\n",
            " [1.         0.66666667]]\n",
            "Actual Output: \n",
            "[[0.92]\n",
            " [0.86]\n",
            " [0.89]]\n",
            "Predicted Output: \n",
            " [[0.85428137]\n",
            " [0.83656154]\n",
            " [0.85447   ]]\n",
            "-----------Epoch- 3 Ends----------\n",
            "\n",
            "-----------Epoch- 4 Starts----------\n",
            "Input: \n",
            "[[0.66666667 1.        ]\n",
            " [0.33333333 0.55555556]\n",
            " [1.         0.66666667]]\n",
            "Actual Output: \n",
            "[[0.92]\n",
            " [0.86]\n",
            " [0.89]]\n",
            "Predicted Output: \n",
            " [[0.85472801]\n",
            " [0.83700489]\n",
            " [0.85491285]]\n",
            "-----------Epoch- 4 Ends----------\n",
            "\n",
            "-----------Epoch- 5 Starts----------\n",
            "Input: \n",
            "[[0.66666667 1.        ]\n",
            " [0.33333333 0.55555556]\n",
            " [1.         0.66666667]]\n",
            "Actual Output: \n",
            "[[0.92]\n",
            " [0.86]\n",
            " [0.89]]\n",
            "Predicted Output: \n",
            " [[0.8551677 ]\n",
            " [0.8374415 ]\n",
            " [0.85534883]]\n",
            "-----------Epoch- 5 Ends----------\n",
            "\n",
            "Input: \n",
            "[[0.66666667 1.        ]\n",
            " [0.33333333 0.55555556]\n",
            " [1.         0.66666667]]\n",
            "Actual Output: \n",
            "[[0.92]\n",
            " [0.86]\n",
            " [0.89]]\n",
            "Predicted Output: \n",
            " [[0.8551677 ]\n",
            " [0.8374415 ]\n",
            " [0.85534883]]\n"
          ]
        }
      ]
    },
    {
      "cell_type": "markdown",
      "source": [
        ""
      ],
      "metadata": {
        "id": "4_gSf8cRUaw6"
      }
    }
  ]
}